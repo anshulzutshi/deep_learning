{
  "nbformat": 4,
  "nbformat_minor": 0,
  "metadata": {
    "colab": {
      "provenance": [],
      "include_colab_link": true
    },
    "kernelspec": {
      "name": "python3",
      "display_name": "Python 3"
    },
    "language_info": {
      "name": "python"
    }
  },
  "cells": [
    {
      "cell_type": "markdown",
      "metadata": {
        "id": "view-in-github",
        "colab_type": "text"
      },
      "source": [
        "<a href=\"https://colab.research.google.com/github/anshulzutshi/deep_learning/blob/main/svd.ipynb\" target=\"_parent\"><img src=\"https://colab.research.google.com/assets/colab-badge.svg\" alt=\"Open In Colab\"/></a>"
      ]
    },
    {
      "cell_type": "code",
      "execution_count": null,
      "metadata": {
        "colab": {
          "base_uri": "https://localhost:8080/"
        },
        "id": "QyAaRFSw6nqj",
        "outputId": "b8880c51-8424-4bb7-d983-f4c7300141c3"
      },
      "outputs": [
        {
          "output_type": "stream",
          "name": "stdout",
          "text": [
            "Mounted at /content/drive\n",
            "/content/drive/MyDrive/cs189/hw7_code/movie_data\n"
          ]
        }
      ],
      "source": [
        "from google.colab import drive\n",
        "drive.mount('/content/drive')\n",
        "%cd drive/MyDrive/cs189/hw7_code/movie_data"
      ]
    },
    {
      "cell_type": "code",
      "source": [
        "import os\n",
        "import scipy.io\n",
        "import numpy as np\n",
        "import scipy.linalg as linalg\n",
        "import matplotlib.pyplot as plt\n",
        "\n",
        "# Load training data from MAT file\n",
        "R = scipy.io.loadmat('movie_train.mat')['train']\n",
        "\n",
        "# Load validation data from CSV\n",
        "val_data = np.loadtxt('movie_validate.txt', dtype=int, delimiter=',')\n",
        "\n",
        "# Helper method to get training accuracy\n",
        "def get_train_acc(R, user_vecs, movie_vecs):\n",
        "    num_correct, total = 0, 0\n",
        "    for i in range(R.shape[0]):\n",
        "        for j in range(R.shape[1]):\n",
        "            if not np.isnan(R[i, j]):\n",
        "                total += 1\n",
        "                if np.dot(user_vecs[i], movie_vecs[j])*R[i, j] > 0:\n",
        "                    num_correct += 1\n",
        "    return num_correct/total\n",
        "\n",
        "# Helper method to get validation accuracy\n",
        "def get_val_acc(val_data, user_vecs, movie_vecs):\n",
        "    num_correct = 0\n",
        "    for val_pt in val_data:\n",
        "        user_vec = user_vecs[val_pt[0]-1]\n",
        "        movie_vec = movie_vecs[val_pt[1]-1]\n",
        "        est_rating = np.dot(user_vec, movie_vec)\n",
        "        if est_rating*val_pt[2] > 0:\n",
        "            num_correct += 1\n",
        "    return num_correct/val_data.shape[0]\n",
        "\n",
        "# Helper method to get indices of all rated movies for each user,\n",
        "# and indices of all users who have rated that title for each movie\n",
        "def get_rated_idxs(R):\n",
        "    user_rated_idxs, movie_rated_idxs = [], []\n",
        "    for i in range(R.shape[0]):\n",
        "        user_rated_idxs.append(np.argwhere(~np.isnan(R[i, :])).reshape(-1))\n",
        "    for j in range(R.shape[1]):\n",
        "        movie_rated_idxs.append(np.argwhere(~np.isnan(R[:, j])).reshape(-1))\n",
        "    return np.array(user_rated_idxs), np.array(movie_rated_idxs)\n"
      ],
      "metadata": {
        "id": "tqmPGPoW68RT"
      },
      "execution_count": null,
      "outputs": []
    },
    {
      "cell_type": "code",
      "source": [
        "# Part (c): SVD to learn low-dimensional vector representations\n",
        "def svd_lfm(R):\n",
        "\n",
        "    # Fill in the missing values in R\n",
        "    ##### TODO(c): Your Code Here #####\n",
        "    R = np.nan_to_num(R)\n",
        "    # Compute the SVD of R\n",
        "    ##### TODO(c): Your Code Here #####\n",
        "    U, D, V = linalg.svd(R, full_matrices = False)\n",
        "    # Construct user and movie representations\n",
        "    ##### TODO(c): Your Code Here #####\n",
        "    user_vecs = U * D\n",
        "    movie_vecs = V.T\n",
        "    return user_vecs, movie_vecs\n"
      ],
      "metadata": {
        "id": "ruXfZfH_9AEV"
      },
      "execution_count": null,
      "outputs": []
    },
    {
      "cell_type": "code",
      "source": [
        "# Part (d): Compute the training MSE loss of a given vectorization\n",
        "def get_train_mse(R, user_vecs, movie_vecs):\n",
        "\n",
        "    # Compute the training MSE loss\n",
        "    ##### TODO(d): Your Code Here #####\n",
        "    mse_loss = 0\n",
        "    for i in range(R.shape[0]):\n",
        "      for j in range(R.shape[1]):\n",
        "        if np.isnan(R[i][j]):\n",
        "          continue\n",
        "        pred = user_vecs[i] @ movie_vecs[j]\n",
        "        mse_loss += (pred - R[i][j])**2\n",
        "    return mse_loss\n",
        "user_vecs, movie_vecs = svd_lfm(np.copy(R))\n",
        "get_train_mse(np.copy(R), user_vecs[:, :10], movie_vecs[:, :10])"
      ],
      "metadata": {
        "colab": {
          "base_uri": "https://localhost:8080/"
        },
        "id": "tozs3vrl9l1I",
        "outputId": "cf652092-1b00-4a83-bbb4-bd687bc8b2d2"
      },
      "execution_count": null,
      "outputs": [
        {
          "output_type": "execute_result",
          "data": {
            "text/plain": [
              "14165432.758000363"
            ]
          },
          "metadata": {},
          "execution_count": 5
        }
      ]
    },
    {
      "cell_type": "code",
      "source": [
        "# Part (e): Compute training MSE and val acc of SVD LFM for various d\n",
        "d_values = [2, 5, 10, 20]\n",
        "train_mses, train_accs, val_accs = [], [], []\n",
        "user_vecs, movie_vecs = svd_lfm(np.copy(R))\n",
        "for d in d_values:\n",
        "    train_mses.append(get_train_mse(np.copy(R), user_vecs[:, :d], movie_vecs[:, :d]))\n",
        "    #print(train_mses)\n",
        "    train_accs.append(get_train_acc(np.copy(R), user_vecs[:, :d], movie_vecs[:, :d]))\n",
        "    val_accs.append(get_val_acc(val_data, user_vecs[:, :d], movie_vecs[:, :d]))\n",
        "plt.clf()\n",
        "plt.plot([str(d) for d in d_values], train_mses, 'o-')\n",
        "plt.title('Train MSE of SVD-LFM with Varying Dimensionality')\n",
        "plt.xlabel('d')\n",
        "plt.ylabel('Train MSE')\n",
        "plt.savefig(fname='train_mses.png', dpi=600, bbox_inches='tight')\n",
        "plt.clf()\n",
        "plt.plot([str(d) for d in d_values], train_accs, 'o-')\n",
        "plt.plot([str(d) for d in d_values], val_accs, 'o-')\n",
        "plt.title('Train/Val Accuracy of SVD-LFM with Varying Dimensionality')\n",
        "plt.xlabel('d')\n",
        "plt.ylabel('Train/Val Accuracy')\n",
        "plt.legend(['Train Accuracy', 'Validation Accuracy'])\n",
        "plt.savefig(fname='trval_accs.png', dpi=600, bbox_inches='tight')"
      ],
      "metadata": {
        "colab": {
          "base_uri": "https://localhost:8080/",
          "height": 295
        },
        "id": "_O_B-tac9qTS",
        "outputId": "152ebf42-c372-4621-a524-b3eab807c4e6"
      },
      "execution_count": null,
      "outputs": [
        {
          "output_type": "display_data",
          "data": {
            "text/plain": [
              "<Figure size 432x288 with 1 Axes>"
            ],
            "image/png": "[encoded data removed]"
          },
          "metadata": {
            "needs_background": "light"
          }
        }
      ]
    },
    {
      "cell_type": "code",
      "source": [
        "plt.clf()\n",
        "plt.plot([str(d) for d in d_values], train_mses, 'o-')\n",
        "plt.title('Train MSE of SVD-LFM with Varying Dimensionality')\n",
        "plt.xlabel('d')\n",
        "plt.ylabel('Train MSE')\n",
        "plt.savefig(fname='train_mses.png', dpi=600, bbox_inches='tight')"
      ],
      "metadata": {
        "colab": {
          "base_uri": "https://localhost:8080/",
          "height": 295
        },
        "id": "0D-P9oI3CrHL",
        "outputId": "7eee5079-3e5e-4b67-a33c-920a22731019"
      },
      "execution_count": null,
      "outputs": [
        {
          "output_type": "display_data",
          "data": {
            "text/plain": [
              "<Figure size 432x288 with 1 Axes>"
            ],
            "image/png": "[encoded data removed]"
          },
          "metadata": {
            "needs_background": "light"
          }
        }
      ]
    },
    {
      "cell_type": "code",
      "source": [
        "val_accs"
      ],
      "metadata": {
        "colab": {
          "base_uri": "https://localhost:8080/"
        },
        "id": "hNpne1zkBorP",
        "outputId": "846f9acf-b463-4336-a1c0-084fbbcdb2bb"
      },
      "execution_count": null,
      "outputs": [
        {
          "output_type": "execute_result",
          "data": {
            "text/plain": [
              "[0.7051490514905149,\n",
              " 0.7154471544715447,\n",
              " 0.7165311653116531,\n",
              " 0.6859078590785908]"
            ]
          },
          "metadata": {},
          "execution_count": 8
        }
      ]
    },
    {
      "cell_type": "code",
      "source": [
        "train_mses"
      ],
      "metadata": {
        "colab": {
          "base_uri": "https://localhost:8080/"
        },
        "id": "cIIChLJd9Jpy",
        "outputId": "29be6e7a-9ff5-456e-ada0-e27156f6e861"
      },
      "execution_count": null,
      "outputs": [
        {
          "output_type": "execute_result",
          "data": {
            "text/plain": [
              "[18441623.017882064,\n",
              " 16333384.420196977,\n",
              " 14165432.758000363,\n",
              " 11304007.439729344]"
            ]
          },
          "metadata": {},
          "execution_count": 9
        }
      ]
    },
    {
      "cell_type": "code",
      "source": [
        "# Part (f): Learn better user/movie vector representations by minimizing loss\n",
        "best_d = 10 #TODO(f): Use best from part (e)\n",
        "np.random.seed(20)\n",
        "user_vecs = np.random.random((R.shape[0], best_d))\n",
        "movie_vecs = np.random.random((R.shape[1], best_d))\n",
        "user_rated_idxs, movie_rated_idxs = get_rated_idxs(np.copy(R))\n",
        "\n",
        "# Part (f): Function to update user vectors\n",
        "def update_user_vecs(user_vecs, movie_vecs, R, user_rated_idxs):\n",
        "\n",
        "    # Update user_vecs to the loss-minimizing value\n",
        "    ##### TODO(f): Your Code Here #####\n",
        "    for i in range(len(user_rated_idxs)):\n",
        "        first = np.identity(best_d)\n",
        "        second = np.zeros((best_d, ))\n",
        "        for j in user_rated_idxs[i]:\n",
        "            first += np.outer(movie_vecs[j], movie_vecs[j])\n",
        "            second += R[i][j] * movie_vecs[j]\n",
        "        user_vecs[i] = np.linalg.inv(first) @ second\n",
        "\n",
        "    return user_vecs\n",
        "\n",
        "# Part (f): Function to update user vectors\n",
        "def update_movie_vecs(user_vecs, movie_vecs, R, movie_rated_idxs):\n",
        "\n",
        "    # Update movie_vecs to the loss-minimizing value\n",
        "    ##### TODO(f): Your Code Here #####\n",
        "    for j in range(len(movie_rated_idxs)):\n",
        "        first = np.identity(best_d)\n",
        "        second = np.zeros((best_d, ))\n",
        "        for i in movie_rated_idxs[j]:\n",
        "            first += np.outer(user_vecs[i], user_vecs[i])\n",
        "            second += R[i][j] * user_vecs[i]\n",
        "        movie_vecs[j] = np.linalg.inv(first) @ second\n",
        "\n",
        "    return movie_vecs\n",
        "\n",
        "# Part (f): Perform loss optimization using alternating updates\n",
        "train_mse = get_train_mse(np.copy(R), user_vecs, movie_vecs)\n",
        "train_acc = get_train_acc(np.copy(R), user_vecs, movie_vecs)\n",
        "val_acc = get_val_acc(val_data, user_vecs, movie_vecs)\n",
        "print(f'Start optim, train MSE: {train_mse:.2f}, train accuracy: {train_acc:.4f}, val accuracy: {val_acc:.4f}')\n",
        "for opt_iter in range(20):\n",
        "    user_vecs = update_user_vecs(user_vecs, movie_vecs, np.copy(R), user_rated_idxs)\n",
        "    movie_vecs = update_movie_vecs(user_vecs, movie_vecs, np.copy(R), movie_rated_idxs)\n",
        "    train_mse = get_train_mse(np.copy(R), user_vecs, movie_vecs)\n",
        "    train_acc = get_train_acc(np.copy(R), user_vecs, movie_vecs)\n",
        "    val_acc = get_val_acc(val_data, user_vecs, movie_vecs)\n",
        "    print(f'Iteration {opt_iter+1}, train MSE: {train_mse:.2f}, train accuracy: {train_acc:.4f}, val accuracy: {val_acc:.4f}')"
      ],
      "metadata": {
        "colab": {
          "base_uri": "https://localhost:8080/"
        },
        "id": "Pz3Pt1VP9uHf",
        "outputId": "1d4dcaf6-adb9-44ca-8246-cf3d1f61ab2b"
      },
      "execution_count": null,
      "outputs": [
        {
          "output_type": "stream",
          "name": "stderr",
          "text": [
            "/usr/local/lib/python3.7/dist-packages/ipykernel_launcher.py:43: VisibleDeprecationWarning: Creating an ndarray from ragged nested sequences (which is a list-or-tuple of lists-or-tuples-or ndarrays with different lengths or shapes) is deprecated. If you meant to do this, you must specify 'dtype=object' when creating the ndarray.\n"
          ]
        },
        {
          "output_type": "stream",
          "name": "stdout",
          "text": [
            "Start optim, train MSE: 27574866.30, train accuracy: 0.5950, val accuracy: 0.5799\n",
            "Iteration 1, train MSE: 13421216.24, train accuracy: 0.7611, val accuracy: 0.6431\n",
            "Iteration 2, train MSE: 11474959.41, train accuracy: 0.7876, val accuracy: 0.6789\n",
            "Iteration 3, train MSE: 10493324.86, train accuracy: 0.8007, val accuracy: 0.6989\n",
            "Iteration 4, train MSE: 10040997.98, train accuracy: 0.8069, val accuracy: 0.7084\n",
            "Iteration 5, train MSE: 9792296.83, train accuracy: 0.8098, val accuracy: 0.7100\n",
            "Iteration 6, train MSE: 9649312.88, train accuracy: 0.8117, val accuracy: 0.7100\n",
            "Iteration 7, train MSE: 9561491.69, train accuracy: 0.8130, val accuracy: 0.7060\n",
            "Iteration 8, train MSE: 9503837.41, train accuracy: 0.8138, val accuracy: 0.7117\n",
            "Iteration 9, train MSE: 9463660.97, train accuracy: 0.8144, val accuracy: 0.7111\n",
            "Iteration 10, train MSE: 9434168.95, train accuracy: 0.8147, val accuracy: 0.7087\n",
            "Iteration 11, train MSE: 9411512.64, train accuracy: 0.8150, val accuracy: 0.7119\n",
            "Iteration 12, train MSE: 9393397.49, train accuracy: 0.8152, val accuracy: 0.7103\n",
            "Iteration 13, train MSE: 9378404.19, train accuracy: 0.8155, val accuracy: 0.7125\n",
            "Iteration 14, train MSE: 9365635.88, train accuracy: 0.8156, val accuracy: 0.7122\n",
            "Iteration 15, train MSE: 9354518.75, train accuracy: 0.8157, val accuracy: 0.7125\n",
            "Iteration 16, train MSE: 9344681.51, train accuracy: 0.8158, val accuracy: 0.7136\n",
            "Iteration 17, train MSE: 9335879.18, train accuracy: 0.8159, val accuracy: 0.7144\n",
            "Iteration 18, train MSE: 9327944.20, train accuracy: 0.8160, val accuracy: 0.7146\n",
            "Iteration 19, train MSE: 9320755.69, train accuracy: 0.8161, val accuracy: 0.7149\n",
            "Iteration 20, train MSE: 9314221.76, train accuracy: 0.8163, val accuracy: 0.7160\n"
          ]
        }
      ]
    }
  ]
}