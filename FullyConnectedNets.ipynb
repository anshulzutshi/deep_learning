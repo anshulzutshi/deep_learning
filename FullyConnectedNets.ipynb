{
  "cells": [
    {
      "cell_type": "markdown",
      "metadata": {
        "id": "view-in-github",
        "colab_type": "text"
      },
      "source": [
        "<a href=\"https://colab.research.google.com/github/anshulzutshi/deep_learning/blob/main/FullyConnectedNets.ipynb\" target=\"_parent\"><img src=\"https://colab.research.google.com/assets/colab-badge.svg\" alt=\"Open In Colab\"/></a>"
      ]
    },
    {
      "cell_type": "markdown",
      "metadata": {
        "id": "1E9NQnFNp63H"
      },
      "source": [
        "# Setup Environment\n",
        "\n",
        "If you are working on this assignment using Google Colab, please execute the codes below.\n",
        "\n",
        "Alternatively, you can also do this assignment using a local anaconda environment (or a Python virtualenv). Please clone the GitHub repo by running `git clone https://github.com/gonglinyuan/cs182hw1.git` and refer to `README.md` for further details."
      ]
    },
    {
      "cell_type": "code",
      "execution_count": null,
      "metadata": {
        "id": "3fHz-646p63L",
        "outputId": "6d89b06a-0a6a-4018-80c9-e87e90650541",
        "colab": {
          "base_uri": "https://localhost:8080/"
        }
      },
      "outputs": [
        {
          "output_type": "stream",
          "name": "stdout",
          "text": [
            "Drive already mounted at /content/gdrive; to attempt to forcibly remount, call drive.mount(\"/content/gdrive\", force_remount=True).\n"
          ]
        }
      ],
      "source": [
        "#@title Mount your Google Drive\n",
        "\n",
        "import os\n",
        "from google.colab import drive\n",
        "drive.mount('/content/gdrive')"
      ]
    },
    {
      "cell_type": "code",
      "execution_count": null,
      "metadata": {
        "id": "ezpRVxkqp63M"
      },
      "outputs": [],
      "source": [
        "#@title Set up mount symlink\n",
        "\n",
        "DRIVE_PATH = '/content/gdrive/My\\ Drive/cs182hw1_sp23'\n",
        "DRIVE_PYTHON_PATH = DRIVE_PATH.replace('\\\\', '')\n",
        "if not os.path.exists(DRIVE_PYTHON_PATH):\n",
        "  %mkdir $DRIVE_PATH\n",
        "\n",
        "## the space in `My Drive` causes some issues,\n",
        "## make a symlink to avoid this\n",
        "SYM_PATH = '/content/cs182hw1'\n",
        "if not os.path.exists(SYM_PATH):\n",
        "  !ln -s $DRIVE_PATH $SYM_PATH"
      ]
    },
    {
      "cell_type": "code",
      "execution_count": null,
      "metadata": {
        "id": "YDojJx9vp63N",
        "colab": {
          "base_uri": "https://localhost:8080/"
        },
        "outputId": "9ba02d46-6f01-48e8-c9eb-1c202df3b4ba"
      },
      "outputs": [
        {
          "output_type": "stream",
          "name": "stdout",
          "text": [
            "Looking in indexes: https://pypi.org/simple, https://us-python.pkg.dev/colab-wheels/public/simple/\n",
            "Requirement already satisfied: numpy==1.21.6 in /usr/local/lib/python3.8/dist-packages (1.21.6)\n",
            "Requirement already satisfied: imageio==2.9.0 in /usr/local/lib/python3.8/dist-packages (2.9.0)\n",
            "Requirement already satisfied: matplotlib==3.2.2 in /usr/local/lib/python3.8/dist-packages (3.2.2)\n",
            "Requirement already satisfied: pillow in /usr/local/lib/python3.8/dist-packages (from imageio==2.9.0) (7.1.2)\n",
            "Requirement already satisfied: pyparsing!=2.0.4,!=2.1.2,!=2.1.6,>=2.0.1 in /usr/local/lib/python3.8/dist-packages (from matplotlib==3.2.2) (3.0.9)\n",
            "Requirement already satisfied: python-dateutil>=2.1 in /usr/local/lib/python3.8/dist-packages (from matplotlib==3.2.2) (2.8.2)\n",
            "Requirement already satisfied: cycler>=0.10 in /usr/local/lib/python3.8/dist-packages (from matplotlib==3.2.2) (0.11.0)\n",
            "Requirement already satisfied: kiwisolver>=1.0.1 in /usr/local/lib/python3.8/dist-packages (from matplotlib==3.2.2) (1.4.4)\n",
            "Requirement already satisfied: six>=1.5 in /usr/local/lib/python3.8/dist-packages (from python-dateutil>=2.1->matplotlib==3.2.2) (1.15.0)\n"
          ]
        }
      ],
      "source": [
        "#@title Install dependencies\n",
        "\n",
        "!pip install numpy==1.21.6 imageio==2.9.0 matplotlib==3.2.2"
      ]
    },
    {
      "cell_type": "code",
      "execution_count": null,
      "metadata": {
        "id": "NHRww89mp63N",
        "colab": {
          "base_uri": "https://localhost:8080/"
        },
        "outputId": "bb9d6184-3154-450e-db43-27f629a4408d"
      },
      "outputs": [
        {
          "output_type": "stream",
          "name": "stdout",
          "text": [
            "/content/gdrive/My Drive/cs182hw1_sp23\n",
            "/content/gdrive/My Drive/cs182hw1_sp23/cs182hw1\n"
          ]
        }
      ],
      "source": [
        "#@title Clone homework repo\n",
        "\n",
        "%cd $SYM_PATH\n",
        "if not os.path.exists(\"cs182hw1\"):\n",
        "  !git clone https://github.com/gonglinyuan/cs182hw1.git\n",
        "%cd cs182hw1"
      ]
    },
    {
      "cell_type": "code",
      "execution_count": null,
      "metadata": {
        "id": "Kq0ZXhiQp63O",
        "colab": {
          "base_uri": "https://localhost:8080/"
        },
        "outputId": "afa6bb5d-6f44-4704-feba-7d5ad69f1ed5"
      },
      "outputs": [
        {
          "output_type": "stream",
          "name": "stdout",
          "text": [
            "/content/gdrive/MyDrive/cs182hw1_sp23/cs182hw1/deeplearning/datasets\n",
            "--2023-02-05 04:51:06--  http://www.cs.toronto.edu/~kriz/cifar-10-python.tar.gz\n",
            "Resolving www.cs.toronto.edu (www.cs.toronto.edu)... 128.100.3.30\n",
            "Connecting to www.cs.toronto.edu (www.cs.toronto.edu)|128.100.3.30|:80... connected.\n",
            "HTTP request sent, awaiting response... 200 OK\n",
            "Length: 170498071 (163M) [application/x-gzip]\n",
            "Saving to: ‘cifar-10-python.tar.gz’\n",
            "\n",
            "cifar-10-python.tar 100%[===================>] 162.60M  40.4MB/s    in 4.0s    \n",
            "\n",
            "2023-02-05 04:51:10 (40.6 MB/s) - ‘cifar-10-python.tar.gz’ saved [170498071/170498071]\n",
            "\n",
            "cifar-10-batches-py/\n",
            "cifar-10-batches-py/data_batch_4\n",
            "cifar-10-batches-py/readme.html\n",
            "cifar-10-batches-py/test_batch\n",
            "cifar-10-batches-py/data_batch_3\n",
            "cifar-10-batches-py/batches.meta\n",
            "cifar-10-batches-py/data_batch_2\n",
            "cifar-10-batches-py/data_batch_5\n",
            "cifar-10-batches-py/data_batch_1\n",
            "/content/gdrive/MyDrive/cs182hw1_sp23/cs182hw1\n"
          ]
        }
      ],
      "source": [
        "#@title Download datasets\n",
        "\n",
        "%cd deeplearning/datasets/\n",
        "!bash ./get_datasets.sh\n",
        "%cd ../.."
      ]
    },
    {
      "cell_type": "code",
      "execution_count": null,
      "metadata": {
        "id": "0fe4B6JFp63O",
        "colab": {
          "base_uri": "https://localhost:8080/"
        },
        "outputId": "5bf55c92-6af6-4151-b949-ece63bab9f8c"
      },
      "outputs": [
        {
          "output_type": "stream",
          "name": "stdout",
          "text": [
            "The autoreload extension is already loaded. To reload it, use:\n",
            "  %reload_ext autoreload\n"
          ]
        }
      ],
      "source": [
        "#@title Configure Jupyter Notebook\n",
        "\n",
        "import matplotlib\n",
        "%matplotlib inline\n",
        "%load_ext autoreload\n",
        "%autoreload 2"
      ]
    },
    {
      "cell_type": "markdown",
      "metadata": {
        "id": "tZ-STOtup63P"
      },
      "source": [
        "# Fully-Connected Neural Nets\n",
        "\n",
        "In this notebook we will implement fully-connected networks using a modular approach. For each layer we will implement a `forward` and a `backward` function. The `forward` function will receive inputs, weights, and other parameters and will return both an output and a `cache` object storing data needed for the backward pass, like this:\n",
        "\n",
        "```python\n",
        "def layer_forward(x, w):\n",
        "  \"\"\" Receive inputs x and weights w \"\"\"\n",
        "  # Do some computations ...\n",
        "  z = # ... some intermediate value\n",
        "  # Do some more computations ...\n",
        "  out = # the output\n",
        "   \n",
        "  cache = (x, w, z, out) # Values we need to compute gradients\n",
        "  \n",
        "  return out, cache\n",
        "```\n",
        "\n",
        "The backward pass will receive upstream derivatives and the `cache` object, and will return gradients with respect to the inputs and weights, like this:\n",
        "\n",
        "```python\n",
        "def layer_backward(dout, cache):\n",
        "  \"\"\"\n",
        "  Receive derivative of loss with respect to outputs and cache,\n",
        "  and compute derivative with respect to inputs.\n",
        "  \"\"\"\n",
        "  # Unpack cache values\n",
        "  x, w, z, out = cache\n",
        "  \n",
        "  # Use values in cache to compute derivatives\n",
        "  dx = # Derivative of loss with respect to x\n",
        "  dw = # Derivative of loss with respect to w\n",
        "  \n",
        "  return dx, dw\n",
        "```\n",
        "\n",
        "After implementing a bunch of layers this way, we will be able to easily combine them to build classifiers with different architectures."
      ]
    },
    {
      "cell_type": "code",
      "execution_count": null,
      "metadata": {
        "id": "mZn2wMLpp63P"
      },
      "outputs": [],
      "source": [
        "# As usual, a bit of setup\n",
        "\n",
        "import os\n",
        "import time\n",
        "import numpy as np\n",
        "import matplotlib.pyplot as plt\n",
        "from deeplearning.classifiers.fc_net import *\n",
        "from deeplearning.data_utils import get_CIFAR10_data\n",
        "from deeplearning.gradient_check import eval_numerical_gradient, eval_numerical_gradient_array\n",
        "from deeplearning.solver import Solver\n",
        "\n",
        "plt.rcParams['figure.figsize'] = (10.0, 8.0) # set default size of plots\n",
        "plt.rcParams['image.interpolation'] = 'nearest'\n",
        "plt.rcParams['image.cmap'] = 'gray'\n",
        "\n",
        "# for auto-reloading external modules\n",
        "# see http://stackoverflow.com/questions/1907993/autoreload-of-modules-in-ipython\n",
        "\n",
        "def rel_error(x, y):\n",
        "    \"\"\" returns relative error \"\"\"\n",
        "    return np.max(np.abs(x - y) / (np.maximum(1e-8, np.abs(x) + np.abs(y))))"
      ]
    },
    {
      "cell_type": "code",
      "execution_count": null,
      "metadata": {
        "id": "DhKChDE9p63Q",
        "colab": {
          "base_uri": "https://localhost:8080/"
        },
        "outputId": "0e7861c8-5125-47a7-d3ef-147e5af23e42"
      },
      "outputs": [
        {
          "output_type": "stream",
          "name": "stdout",
          "text": [
            "deeplearning/datasets/cifar-10-batches-py/data_batch_1\n",
            "deeplearning/datasets/cifar-10-batches-py/data_batch_2\n",
            "deeplearning/datasets/cifar-10-batches-py/data_batch_3\n",
            "deeplearning/datasets/cifar-10-batches-py/data_batch_4\n",
            "deeplearning/datasets/cifar-10-batches-py/data_batch_5\n",
            "deeplearning/datasets/cifar-10-batches-py/test_batch\n",
            "X_train:  (49000, 3, 32, 32)\n",
            "y_train:  (49000,)\n",
            "X_val:  (1000, 3, 32, 32)\n",
            "y_val:  (1000,)\n",
            "X_test:  (1000, 3, 32, 32)\n",
            "y_test:  (1000,)\n"
          ]
        }
      ],
      "source": [
        "# Lddoad the (preprocessed) CIFAR10 data.\n",
        "\n",
        "data = get_CIFAR10_data()\n",
        "for k, v in data.items():\n",
        "    print('%s: ' % k, v.shape)"
      ]
    },
    {
      "cell_type": "markdown",
      "metadata": {
        "id": "xbuD3-X8p63Q"
      },
      "source": [
        "# Affine layer: forward\n",
        "Open the file `deeplearning/layers.py` and implement the `affine_forward` function.\n",
        "\n",
        "Once you are done you can test your implementaion by running the following:"
      ]
    },
    {
      "cell_type": "code",
      "execution_count": null,
      "metadata": {
        "id": "5y1-dbNfp63R",
        "colab": {
          "base_uri": "https://localhost:8080/"
        },
        "outputId": "ae9f05e5-54d1-47bf-8673-d66373c2dd4d"
      },
      "outputs": [
        {
          "output_type": "stream",
          "name": "stdout",
          "text": [
            "Testing affine_forward function:\n",
            "difference:  9.769849468192957e-10\n"
          ]
        }
      ],
      "source": [
        "# Test the affine_forward function\n",
        "\n",
        "num_inputs = 2\n",
        "input_shape = (4, 5, 6)\n",
        "output_dim = 3\n",
        "\n",
        "input_size = num_inputs * np.prod(input_shape)\n",
        "weight_size = output_dim * np.prod(input_shape)\n",
        "\n",
        "x = np.linspace(-0.1, 0.5, num=input_size).reshape(num_inputs, *input_shape)\n",
        "w = np.linspace(-0.2, 0.3, num=weight_size).reshape(np.prod(input_shape), output_dim)\n",
        "b = np.linspace(-0.3, 0.1, num=output_dim)\n",
        "\n",
        "out, _ = affine_forward(x, w, b)\n",
        "correct_out = np.array([[ 1.49834967,  1.70660132,  1.91485297],\n",
        "                        [ 3.25553199,  3.5141327,   3.77273342]])\n",
        "\n",
        "# Compare your output with ours. The error should be around 1e-9.\n",
        "print('Testing affine_forward function:')\n",
        "print('difference: ', rel_error(out, correct_out))"
      ]
    },
    {
      "cell_type": "markdown",
      "metadata": {
        "id": "Xa0uNeR1p63R"
      },
      "source": [
        "# Affine layer: backward\n",
        "Now implement the `affine_backward` function and test your implementation using numeric gradient checking."
      ]
    },
    {
      "cell_type": "code",
      "execution_count": null,
      "metadata": {
        "id": "pXaSTz6Wp63R",
        "colab": {
          "base_uri": "https://localhost:8080/"
        },
        "outputId": "9fa24a65-58df-4658-d4f9-6ecd3012656b"
      },
      "outputs": [
        {
          "output_type": "stream",
          "name": "stdout",
          "text": [
            "Testing affine_backward function:\n",
            "dx error:  1.5191720915930805e-10\n",
            "dw error:  1.4993705598170072e-09\n",
            "db error:  7.636752485505731e-12\n"
          ]
        }
      ],
      "source": [
        "# Test the affine_backward function\n",
        "\n",
        "x = np.random.randn(10, 2, 3)\n",
        "w = np.random.randn(6, 5)\n",
        "b = np.random.randn(5)\n",
        "dout = np.random.randn(10, 5)\n",
        "\n",
        "dx_num = eval_numerical_gradient_array(lambda x: affine_forward(x, w, b)[0], x, dout)\n",
        "dw_num = eval_numerical_gradient_array(lambda w: affine_forward(x, w, b)[0], w, dout)\n",
        "db_num = eval_numerical_gradient_array(lambda b: affine_forward(x, w, b)[0], b, dout)\n",
        "\n",
        "_, cache = affine_forward(x, w, b)\n",
        "dx, dw, db = affine_backward(dout, cache)\n",
        "# The error should be around 1e-10\n",
        "print('Testing affine_backward function:')\n",
        "print('dx error: ', rel_error(dx_num, dx))\n",
        "print('dw error: ', rel_error(dw_num, dw))\n",
        "print('db error: ', rel_error(db_num, db))"
      ]
    },
    {
      "cell_type": "markdown",
      "metadata": {
        "id": "lLGynCdAp63S"
      },
      "source": [
        "# ReLU layer: forward\n",
        "Implement the forward pass for the ReLU activation function in the `relu_forward` function and test your implementation using the following:"
      ]
    },
    {
      "cell_type": "code",
      "execution_count": null,
      "metadata": {
        "id": "IjgYGYifp63S",
        "colab": {
          "base_uri": "https://localhost:8080/"
        },
        "outputId": "457ccd5e-e788-4feb-c353-738156b2c170"
      },
      "outputs": [
        {
          "output_type": "stream",
          "name": "stdout",
          "text": [
            "Testing relu_forward function:\n",
            "difference:  4.999999798022158e-08\n"
          ]
        }
      ],
      "source": [
        "# Test the relu_forward function\n",
        "\n",
        "x = np.linspace(-0.5, 0.5, num=12).reshape(3, 4)\n",
        "\n",
        "out, _ = relu_forward(x)\n",
        "correct_out = np.array([[ 0.,          0.,          0.,          0.,        ],\n",
        "                        [ 0.,          0.,          0.04545455,  0.13636364,],\n",
        "                        [ 0.22727273,  0.31818182,  0.40909091,  0.5,       ]])\n",
        "\n",
        "# Compare your output with ours. The error should be around 1e-8\n",
        "print('Testing relu_forward function:')\n",
        "print('difference: ', rel_error(out, correct_out))"
      ]
    },
    {
      "cell_type": "markdown",
      "metadata": {
        "id": "Dflj1sW-p63S"
      },
      "source": [
        "# ReLU layer: backward\n",
        "Now implement the backward pass for the ReLU activation function in the `relu_backward` function and test your implementation using numeric gradient checking. Note that the ReLU activation is not differentiable at 0, but typically we don't worry about this and simply assign either 0 or 1 as the derivative by convention."
      ]
    },
    {
      "cell_type": "code",
      "execution_count": null,
      "metadata": {
        "id": "eBpY6c4gp63S",
        "colab": {
          "base_uri": "https://localhost:8080/"
        },
        "outputId": "15925951-9c50-49e9-afe2-ec45aee8f5d6"
      },
      "outputs": [
        {
          "output_type": "stream",
          "name": "stdout",
          "text": [
            "Testing relu_backward function:\n",
            "dx error:  3.275621952150301e-12\n"
          ]
        }
      ],
      "source": [
        "x = np.random.randn(10, 10)\n",
        "dout = np.random.randn(*x.shape)\n",
        "\n",
        "dx_num = eval_numerical_gradient_array(lambda x: relu_forward(x)[0], x, dout)\n",
        "\n",
        "_, cache = relu_forward(x)\n",
        "dx = relu_backward(dout, cache)\n",
        "\n",
        "# The error should be around 1e-12\n",
        "print('Testing relu_backward function:')\n",
        "print('dx error: ', rel_error(dx_num, dx))"
      ]
    },
    {
      "cell_type": "markdown",
      "metadata": {
        "id": "IXA6p0ydp63S"
      },
      "source": [
        "# \"Sandwich\" layers\n",
        "There are some common patterns of layers that are frequently used in neural nets. For example, affine layers are frequently followed by a ReLU nonlinearity. To make these common patterns easy, we define several convenience layers in the file `deeplearning/layer_utils.py`.\n",
        "\n",
        "For now take a look at the `affine_relu_forward` and `affine_relu_backward` functions, and run the following to numerically gradient check the backward pass:"
      ]
    },
    {
      "cell_type": "code",
      "execution_count": null,
      "metadata": {
        "id": "GW4foHKDp63T",
        "colab": {
          "base_uri": "https://localhost:8080/"
        },
        "outputId": "ea95a318-df00-4192-9fcd-a85388a67128"
      },
      "outputs": [
        {
          "output_type": "stream",
          "name": "stdout",
          "text": [
            "Testing affine_relu_forward:\n",
            "dx error:  1.6694093148952538e-10\n",
            "dw error:  2.536639962229036e-10\n",
            "db error:  8.684719452692547e-12\n"
          ]
        }
      ],
      "source": [
        "from deeplearning.layer_utils import affine_relu_forward, affine_relu_backward\n",
        "\n",
        "x = np.random.randn(2, 3, 4)\n",
        "w = np.random.randn(12, 10)\n",
        "b = np.random.randn(10)\n",
        "dout = np.random.randn(2, 10)\n",
        "\n",
        "out, cache = affine_relu_forward(x, w, b)\n",
        "dx, dw, db = affine_relu_backward(dout, cache)\n",
        "\n",
        "dx_num = eval_numerical_gradient_array(lambda x: affine_relu_forward(x, w, b)[0], x, dout)\n",
        "dw_num = eval_numerical_gradient_array(lambda w: affine_relu_forward(x, w, b)[0], w, dout)\n",
        "db_num = eval_numerical_gradient_array(lambda b: affine_relu_forward(x, w, b)[0], b, dout)\n",
        "\n",
        "print('Testing affine_relu_forward:')\n",
        "print('dx error: ', rel_error(dx_num, dx))\n",
        "print('dw error: ', rel_error(dw_num, dw))\n",
        "print('db error: ', rel_error(db_num, db))"
      ]
    },
    {
      "cell_type": "markdown",
      "metadata": {
        "id": "Bzae3vowp63T"
      },
      "source": [
        "# Loss layers: Softmax and SVM\n",
        "Here we provide two loss functions that we will use to train our deep neural networks. You should understand how they work by looking at the implementations in `deeplearning/layers.py`.\n",
        "\n",
        "You can make sure that the implementations are correct by running the following:"
      ]
    },
    {
      "cell_type": "code",
      "execution_count": null,
      "metadata": {
        "id": "HuSvIxUIp63T",
        "colab": {
          "base_uri": "https://localhost:8080/"
        },
        "outputId": "b7fa90cf-6acf-4890-be2b-013288f8c765"
      },
      "outputs": [
        {
          "output_type": "stream",
          "name": "stdout",
          "text": [
            "Testing svm_loss:\n",
            "loss:  9.000075726686852\n",
            "dx error:  1.4021566006651672e-09\n",
            "\n",
            "Testing softmax_loss:\n",
            "loss:  2.302593075753532\n",
            "dx error:  8.554180975557837e-09\n"
          ]
        }
      ],
      "source": [
        "num_classes, num_inputs = 10, 50\n",
        "x = 0.001 * np.random.randn(num_inputs, num_classes)\n",
        "y = np.random.randint(num_classes, size=num_inputs)\n",
        "\n",
        "dx_num = eval_numerical_gradient(lambda x: svm_loss(x, y)[0], x, verbose=False)\n",
        "loss, dx = svm_loss(x, y)\n",
        "\n",
        "# Test svm_loss function. Loss should be around 9 and dx error should be 1e-9\n",
        "print('Testing svm_loss:')\n",
        "print('loss: ', loss)\n",
        "print('dx error: ', rel_error(dx_num, dx))\n",
        "\n",
        "dx_num = eval_numerical_gradient(lambda x: softmax_loss(x, y)[0], x, verbose=False)\n",
        "loss, dx = softmax_loss(x, y)\n",
        "\n",
        "# Test softmax_loss function. Loss should be 2.3 and dx error should be 1e-8\n",
        "print('\\nTesting softmax_loss:')\n",
        "print('loss: ', loss)\n",
        "print('dx error: ', rel_error(dx_num, dx))"
      ]
    },
    {
      "cell_type": "markdown",
      "metadata": {
        "id": "MQCB9mMpp63T"
      },
      "source": [
        "# Two-layer network\n",
        "\n",
        "Open the file `deeplearning/classifiers/fc_net.py` and complete the implementation of the `TwoLayerNet` class. This class will serve as a model for the other networks you will implement in this assignment, so read through it to make sure you understand the API. Run the cell below to test your implementation."
      ]
    },
    {
      "cell_type": "code",
      "execution_count": null,
      "metadata": {
        "id": "aj9vUzuup63U",
        "colab": {
          "base_uri": "https://localhost:8080/"
        },
        "outputId": "9caa02ac-d8e2-428d-e4f8-b9d717771e25"
      },
      "outputs": [
        {
          "output_type": "stream",
          "name": "stdout",
          "text": [
            "Testing initialization ... \n",
            "Testing test-time forward pass ... \n",
            "Testing training loss (no regularization)\n",
            "Running numeric gradient check with reg =  0.0\n",
            "W1 relative error: 1.83e-08\n",
            "W2 relative error: 3.20e-10\n",
            "b1 relative error: 9.83e-09\n",
            "b2 relative error: 4.33e-10\n",
            "Running numeric gradient check with reg =  0.7\n",
            "W1 relative error: 2.53e-07\n",
            "W2 relative error: 2.85e-08\n",
            "b1 relative error: 1.56e-08\n",
            "b2 relative error: 9.09e-10\n"
          ]
        }
      ],
      "source": [
        "N, D, H, C = 3, 5, 50, 7\n",
        "X = np.random.randn(N, D)\n",
        "y = np.random.randint(C, size=N)\n",
        "\n",
        "std = 1e-2\n",
        "model = TwoLayerNet(input_dim=D, hidden_dim=H, num_classes=C, weight_scale=std)\n",
        "\n",
        "print ('Testing initialization ... ')\n",
        "W1_std = abs(model.params['W1'].std() - std)\n",
        "b1 = model.params['b1']\n",
        "W2_std = abs(model.params['W2'].std() - std)\n",
        "b2 = model.params['b2']\n",
        "assert W1_std < std / 10, 'First layer weights do not seem right'\n",
        "assert np.all(b1 == 0), 'First layer biases do not seem right'\n",
        "assert W2_std < std / 10, 'Second layer weights do not seem right'\n",
        "assert np.all(b2 == 0), 'Second layer biases do not seem right'\n",
        "\n",
        "print ('Testing test-time forward pass ... ')\n",
        "model.params['W1'] = np.linspace(-0.7, 0.3, num=D*H).reshape(D, H)\n",
        "model.params['b1'] = np.linspace(-0.1, 0.9, num=H)\n",
        "model.params['W2'] = np.linspace(-0.3, 0.4, num=H*C).reshape(H, C)\n",
        "model.params['b2'] = np.linspace(-0.9, 0.1, num=C)\n",
        "X = np.linspace(-5.5, 4.5, num=N*D).reshape(D, N).T\n",
        "scores = model.loss(X)\n",
        "correct_scores = np.asarray(\n",
        "  [[11.53165108,  12.2917344,   13.05181771,  13.81190102,  14.57198434, 15.33206765,  16.09215096],\n",
        "   [12.05769098,  12.74614105,  13.43459113,  14.1230412,   14.81149128, 15.49994135,  16.18839143],\n",
        "   [12.58373087,  13.20054771,  13.81736455,  14.43418138,  15.05099822, 15.66781506,  16.2846319 ]])\n",
        "scores_diff = np.abs(scores - correct_scores).sum()\n",
        "assert scores_diff < 1e-6, 'Problem with test-time forward pass'\n",
        "\n",
        "print ('Testing training loss (no regularization)')\n",
        "y = np.asarray([0, 5, 1])\n",
        "loss, grads = model.loss(X, y)\n",
        "correct_loss = 3.4702243556\n",
        "assert abs(loss - correct_loss) < 1e-10, 'Problem with training-time loss'\n",
        "\n",
        "model.reg = 1.0\n",
        "loss, grads = model.loss(X, y)\n",
        "correct_loss = 26.5948426952\n",
        "assert abs(loss - correct_loss) < 1e-10, 'Problem with regularization loss'\n",
        "\n",
        "for reg in [0.0, 0.7]:\n",
        "    print ('Running numeric gradient check with reg = ', reg)\n",
        "    model.reg = reg\n",
        "    loss, grads = model.loss(X, y)\n",
        "\n",
        "    for name in sorted(grads):\n",
        "        f = lambda _: model.loss(X, y)[0]\n",
        "        grad_num = eval_numerical_gradient(f, model.params[name], verbose=False)\n",
        "        print ('%s relative error: %.2e' % (name, rel_error(grad_num, grads[name])))"
      ]
    },
    {
      "cell_type": "markdown",
      "metadata": {
        "id": "Bxdylzg0p63U"
      },
      "source": [
        "# Solver\n",
        "Following a modular design, for this assignment we have split the logic for training models into a separate class from the models themselves.\n",
        "\n",
        "Open the file `deeplearning/solver.py` and read through it to familiarize yourself with the API. After doing so, use a `Solver` instance to train a `TwoLayerNet` that achieves at least `50%` accuracy on the validation set."
      ]
    },
    {
      "cell_type": "code",
      "execution_count": null,
      "metadata": {
        "id": "GrwPlPLhp63U",
        "colab": {
          "base_uri": "https://localhost:8080/"
        },
        "outputId": "a42c95ef-7c2d-40be-e87e-b360b8f44dd0"
      },
      "outputs": [
        {
          "output_type": "stream",
          "name": "stdout",
          "text": [
            "(Iteration 1 / 4900) loss: 2.299072\n",
            "(Epoch 0 / 10) train acc: 0.132000; val_acc: 0.151000\n",
            "(Iteration 11 / 4900) loss: 2.197078\n",
            "(Iteration 21 / 4900) loss: 2.192203\n",
            "(Iteration 31 / 4900) loss: 1.943012\n",
            "(Iteration 41 / 4900) loss: 2.046635\n",
            "(Iteration 51 / 4900) loss: 1.978433\n",
            "(Iteration 61 / 4900) loss: 1.957815\n",
            "(Iteration 71 / 4900) loss: 1.985787\n",
            "(Iteration 81 / 4900) loss: 1.976367\n",
            "(Iteration 91 / 4900) loss: 1.986986\n",
            "(Iteration 101 / 4900) loss: 1.839391\n",
            "(Iteration 111 / 4900) loss: 1.851706\n",
            "(Iteration 121 / 4900) loss: 1.809911\n",
            "(Iteration 131 / 4900) loss: 1.738548\n",
            "(Iteration 141 / 4900) loss: 1.778642\n",
            "(Iteration 151 / 4900) loss: 1.759815\n",
            "(Iteration 161 / 4900) loss: 1.677840\n",
            "(Iteration 171 / 4900) loss: 1.610570\n",
            "(Iteration 181 / 4900) loss: 1.630901\n",
            "(Iteration 191 / 4900) loss: 1.691442\n",
            "(Iteration 201 / 4900) loss: 1.588611\n",
            "(Iteration 211 / 4900) loss: 1.726007\n",
            "(Iteration 221 / 4900) loss: 1.737063\n",
            "(Iteration 231 / 4900) loss: 1.686605\n",
            "(Iteration 241 / 4900) loss: 1.631520\n",
            "(Iteration 251 / 4900) loss: 1.603087\n",
            "(Iteration 261 / 4900) loss: 1.742000\n",
            "(Iteration 271 / 4900) loss: 1.649063\n",
            "(Iteration 281 / 4900) loss: 1.698538\n",
            "(Iteration 291 / 4900) loss: 1.673247\n",
            "(Iteration 301 / 4900) loss: 1.681468\n",
            "(Iteration 311 / 4900) loss: 1.697106\n",
            "(Iteration 321 / 4900) loss: 1.625665\n",
            "(Iteration 331 / 4900) loss: 1.491847\n",
            "(Iteration 341 / 4900) loss: 1.723650\n",
            "(Iteration 351 / 4900) loss: 1.482297\n",
            "(Iteration 361 / 4900) loss: 1.548701\n",
            "(Iteration 371 / 4900) loss: 1.453673\n",
            "(Iteration 381 / 4900) loss: 1.797817\n",
            "(Iteration 391 / 4900) loss: 1.709480\n",
            "(Iteration 401 / 4900) loss: 1.423440\n",
            "(Iteration 411 / 4900) loss: 1.655699\n",
            "(Iteration 421 / 4900) loss: 1.564171\n",
            "(Iteration 431 / 4900) loss: 1.662931\n",
            "(Iteration 441 / 4900) loss: 1.506782\n",
            "(Iteration 451 / 4900) loss: 1.528196\n",
            "(Iteration 461 / 4900) loss: 1.729547\n",
            "(Iteration 471 / 4900) loss: 1.602123\n",
            "(Iteration 481 / 4900) loss: 1.598877\n",
            "(Epoch 1 / 10) train acc: 0.469000; val_acc: 0.462000\n",
            "(Iteration 491 / 4900) loss: 1.357328\n",
            "(Iteration 501 / 4900) loss: 1.504790\n",
            "(Iteration 511 / 4900) loss: 1.614775\n",
            "(Iteration 521 / 4900) loss: 1.489784\n",
            "(Iteration 531 / 4900) loss: 1.463674\n",
            "(Iteration 541 / 4900) loss: 1.765221\n",
            "(Iteration 551 / 4900) loss: 1.597762\n",
            "(Iteration 561 / 4900) loss: 1.498686\n",
            "(Iteration 571 / 4900) loss: 1.679498\n",
            "(Iteration 581 / 4900) loss: 1.595589\n",
            "(Iteration 591 / 4900) loss: 1.474981\n",
            "(Iteration 601 / 4900) loss: 1.476622\n",
            "(Iteration 611 / 4900) loss: 1.394371\n",
            "(Iteration 621 / 4900) loss: 1.601738\n",
            "(Iteration 631 / 4900) loss: 1.582191\n",
            "(Iteration 641 / 4900) loss: 1.547363\n",
            "(Iteration 651 / 4900) loss: 1.281777\n",
            "(Iteration 661 / 4900) loss: 1.434053\n",
            "(Iteration 671 / 4900) loss: 1.458368\n",
            "(Iteration 681 / 4900) loss: 1.666011\n",
            "(Iteration 691 / 4900) loss: 1.633183\n",
            "(Iteration 701 / 4900) loss: 1.529726\n",
            "(Iteration 711 / 4900) loss: 1.397692\n",
            "(Iteration 721 / 4900) loss: 1.558425\n",
            "(Iteration 731 / 4900) loss: 1.575490\n",
            "(Iteration 741 / 4900) loss: 1.398334\n",
            "(Iteration 751 / 4900) loss: 1.390155\n",
            "(Iteration 761 / 4900) loss: 1.535854\n",
            "(Iteration 771 / 4900) loss: 1.433143\n",
            "(Iteration 781 / 4900) loss: 1.569651\n",
            "(Iteration 791 / 4900) loss: 1.440708\n",
            "(Iteration 801 / 4900) loss: 1.481754\n",
            "(Iteration 811 / 4900) loss: 1.509958\n",
            "(Iteration 821 / 4900) loss: 1.621976\n",
            "(Iteration 831 / 4900) loss: 1.491680\n",
            "(Iteration 841 / 4900) loss: 1.391472\n",
            "(Iteration 851 / 4900) loss: 1.393285\n",
            "(Iteration 861 / 4900) loss: 1.476361\n",
            "(Iteration 871 / 4900) loss: 1.295913\n",
            "(Iteration 881 / 4900) loss: 1.399805\n",
            "(Iteration 891 / 4900) loss: 1.515228\n",
            "(Iteration 901 / 4900) loss: 1.390088\n",
            "(Iteration 911 / 4900) loss: 1.316224\n",
            "(Iteration 921 / 4900) loss: 1.605718\n",
            "(Iteration 931 / 4900) loss: 1.581711\n",
            "(Iteration 941 / 4900) loss: 1.366396\n",
            "(Iteration 951 / 4900) loss: 1.356565\n",
            "(Iteration 961 / 4900) loss: 1.394358\n",
            "(Iteration 971 / 4900) loss: 1.354051\n",
            "(Epoch 2 / 10) train acc: 0.506000; val_acc: 0.484000\n",
            "(Iteration 981 / 4900) loss: 1.406132\n",
            "(Iteration 991 / 4900) loss: 1.493694\n",
            "(Iteration 1001 / 4900) loss: 1.394770\n",
            "(Iteration 1011 / 4900) loss: 1.463221\n",
            "(Iteration 1021 / 4900) loss: 1.555669\n",
            "(Iteration 1031 / 4900) loss: 1.286554\n",
            "(Iteration 1041 / 4900) loss: 1.432912\n",
            "(Iteration 1051 / 4900) loss: 1.357298\n",
            "(Iteration 1061 / 4900) loss: 1.306022\n",
            "(Iteration 1071 / 4900) loss: 1.322991\n",
            "(Iteration 1081 / 4900) loss: 1.503299\n",
            "(Iteration 1091 / 4900) loss: 1.302475\n",
            "(Iteration 1101 / 4900) loss: 1.434383\n",
            "(Iteration 1111 / 4900) loss: 1.558371\n",
            "(Iteration 1121 / 4900) loss: 1.233970\n",
            "(Iteration 1131 / 4900) loss: 1.415683\n",
            "(Iteration 1141 / 4900) loss: 1.470589\n",
            "(Iteration 1151 / 4900) loss: 1.561638\n",
            "(Iteration 1161 / 4900) loss: 1.583956\n",
            "(Iteration 1171 / 4900) loss: 1.536213\n",
            "(Iteration 1181 / 4900) loss: 1.499073\n",
            "(Iteration 1191 / 4900) loss: 1.640731\n",
            "(Iteration 1201 / 4900) loss: 1.341130\n",
            "(Iteration 1211 / 4900) loss: 1.288985\n",
            "(Iteration 1221 / 4900) loss: 1.329030\n",
            "(Iteration 1231 / 4900) loss: 1.469031\n",
            "(Iteration 1241 / 4900) loss: 1.372386\n",
            "(Iteration 1251 / 4900) loss: 1.252331\n",
            "(Iteration 1261 / 4900) loss: 1.366337\n",
            "(Iteration 1271 / 4900) loss: 1.358656\n",
            "(Iteration 1281 / 4900) loss: 1.336715\n",
            "(Iteration 1291 / 4900) loss: 1.484678\n",
            "(Iteration 1301 / 4900) loss: 1.534854\n",
            "(Iteration 1311 / 4900) loss: 1.347024\n",
            "(Iteration 1321 / 4900) loss: 1.294912\n",
            "(Iteration 1331 / 4900) loss: 1.225575\n",
            "(Iteration 1341 / 4900) loss: 1.487888\n",
            "(Iteration 1351 / 4900) loss: 1.302123\n",
            "(Iteration 1361 / 4900) loss: 1.522592\n",
            "(Iteration 1371 / 4900) loss: 1.430696\n",
            "(Iteration 1381 / 4900) loss: 1.425938\n",
            "(Iteration 1391 / 4900) loss: 1.298089\n",
            "(Iteration 1401 / 4900) loss: 1.211348\n",
            "(Iteration 1411 / 4900) loss: 1.337555\n",
            "(Iteration 1421 / 4900) loss: 1.386470\n",
            "(Iteration 1431 / 4900) loss: 1.436419\n",
            "(Iteration 1441 / 4900) loss: 1.538199\n",
            "(Iteration 1451 / 4900) loss: 1.398033\n",
            "(Iteration 1461 / 4900) loss: 1.486701\n",
            "(Epoch 3 / 10) train acc: 0.501000; val_acc: 0.488000\n",
            "(Iteration 1471 / 4900) loss: 1.399570\n",
            "(Iteration 1481 / 4900) loss: 1.408902\n",
            "(Iteration 1491 / 4900) loss: 1.217699\n",
            "(Iteration 1501 / 4900) loss: 1.397845\n",
            "(Iteration 1511 / 4900) loss: 1.358593\n",
            "(Iteration 1521 / 4900) loss: 1.336924\n",
            "(Iteration 1531 / 4900) loss: 1.497570\n",
            "(Iteration 1541 / 4900) loss: 1.312518\n",
            "(Iteration 1551 / 4900) loss: 1.439020\n",
            "(Iteration 1561 / 4900) loss: 1.295374\n",
            "(Iteration 1571 / 4900) loss: 1.229421\n",
            "(Iteration 1581 / 4900) loss: 1.271122\n",
            "(Iteration 1591 / 4900) loss: 1.266486\n",
            "(Iteration 1601 / 4900) loss: 1.318712\n",
            "(Iteration 1611 / 4900) loss: 1.520081\n",
            "(Iteration 1621 / 4900) loss: 1.496171\n",
            "(Iteration 1631 / 4900) loss: 1.311716\n",
            "(Iteration 1641 / 4900) loss: 1.418934\n",
            "(Iteration 1651 / 4900) loss: 1.120156\n",
            "(Iteration 1661 / 4900) loss: 1.123947\n",
            "(Iteration 1671 / 4900) loss: 1.300423\n",
            "(Iteration 1681 / 4900) loss: 1.345221\n",
            "(Iteration 1691 / 4900) loss: 1.383006\n",
            "(Iteration 1701 / 4900) loss: 1.423670\n",
            "(Iteration 1711 / 4900) loss: 1.429013\n",
            "(Iteration 1721 / 4900) loss: 1.437137\n",
            "(Iteration 1731 / 4900) loss: 1.338390\n",
            "(Iteration 1741 / 4900) loss: 1.693816\n",
            "(Iteration 1751 / 4900) loss: 1.315416\n",
            "(Iteration 1761 / 4900) loss: 1.407887\n",
            "(Iteration 1771 / 4900) loss: 1.354514\n",
            "(Iteration 1781 / 4900) loss: 1.431114\n",
            "(Iteration 1791 / 4900) loss: 1.312701\n",
            "(Iteration 1801 / 4900) loss: 1.358902\n",
            "(Iteration 1811 / 4900) loss: 1.167651\n",
            "(Iteration 1821 / 4900) loss: 1.410330\n",
            "(Iteration 1831 / 4900) loss: 1.347161\n",
            "(Iteration 1841 / 4900) loss: 1.177626\n",
            "(Iteration 1851 / 4900) loss: 1.379340\n",
            "(Iteration 1861 / 4900) loss: 1.313077\n",
            "(Iteration 1871 / 4900) loss: 1.392931\n",
            "(Iteration 1881 / 4900) loss: 1.526492\n",
            "(Iteration 1891 / 4900) loss: 1.375802\n",
            "(Iteration 1901 / 4900) loss: 1.356092\n",
            "(Iteration 1911 / 4900) loss: 1.261206\n",
            "(Iteration 1921 / 4900) loss: 1.236014\n",
            "(Iteration 1931 / 4900) loss: 1.265277\n",
            "(Iteration 1941 / 4900) loss: 1.138215\n",
            "(Iteration 1951 / 4900) loss: 1.337028\n",
            "(Epoch 4 / 10) train acc: 0.541000; val_acc: 0.505000\n",
            "(Iteration 1961 / 4900) loss: 1.328245\n",
            "(Iteration 1971 / 4900) loss: 1.349452\n",
            "(Iteration 1981 / 4900) loss: 1.270930\n",
            "(Iteration 1991 / 4900) loss: 1.231047\n",
            "(Iteration 2001 / 4900) loss: 1.349591\n",
            "(Iteration 2011 / 4900) loss: 1.368262\n",
            "(Iteration 2021 / 4900) loss: 1.200761\n",
            "(Iteration 2031 / 4900) loss: 1.676885\n",
            "(Iteration 2041 / 4900) loss: 1.333591\n",
            "(Iteration 2051 / 4900) loss: 1.220007\n",
            "(Iteration 2061 / 4900) loss: 1.659246\n",
            "(Iteration 2071 / 4900) loss: 1.380444\n",
            "(Iteration 2081 / 4900) loss: 1.314849\n",
            "(Iteration 2091 / 4900) loss: 1.256306\n",
            "(Iteration 2101 / 4900) loss: 1.235004\n",
            "(Iteration 2111 / 4900) loss: 1.206977\n",
            "(Iteration 2121 / 4900) loss: 1.480725\n",
            "(Iteration 2131 / 4900) loss: 1.214831\n",
            "(Iteration 2141 / 4900) loss: 1.179866\n",
            "(Iteration 2151 / 4900) loss: 1.346073\n",
            "(Iteration 2161 / 4900) loss: 1.121781\n",
            "(Iteration 2171 / 4900) loss: 1.441060\n",
            "(Iteration 2181 / 4900) loss: 1.229913\n",
            "(Iteration 2191 / 4900) loss: 1.278816\n",
            "(Iteration 2201 / 4900) loss: 1.297712\n",
            "(Iteration 2211 / 4900) loss: 1.152526\n",
            "(Iteration 2221 / 4900) loss: 1.310108\n",
            "(Iteration 2231 / 4900) loss: 1.200784\n",
            "(Iteration 2241 / 4900) loss: 1.278502\n",
            "(Iteration 2251 / 4900) loss: 1.215247\n",
            "(Iteration 2261 / 4900) loss: 1.373046\n",
            "(Iteration 2271 / 4900) loss: 1.449778\n",
            "(Iteration 2281 / 4900) loss: 1.263601\n",
            "(Iteration 2291 / 4900) loss: 1.356594\n",
            "(Iteration 2301 / 4900) loss: 1.160591\n",
            "(Iteration 2311 / 4900) loss: 1.097561\n",
            "(Iteration 2321 / 4900) loss: 1.204637\n",
            "(Iteration 2331 / 4900) loss: 1.226759\n",
            "(Iteration 2341 / 4900) loss: 1.306370\n",
            "(Iteration 2351 / 4900) loss: 1.417992\n",
            "(Iteration 2361 / 4900) loss: 1.213955\n",
            "(Iteration 2371 / 4900) loss: 1.410678\n",
            "(Iteration 2381 / 4900) loss: 1.104682\n",
            "(Iteration 2391 / 4900) loss: 1.267500\n",
            "(Iteration 2401 / 4900) loss: 1.224311\n",
            "(Iteration 2411 / 4900) loss: 1.324224\n",
            "(Iteration 2421 / 4900) loss: 1.220706\n",
            "(Iteration 2431 / 4900) loss: 1.391429\n",
            "(Iteration 2441 / 4900) loss: 1.219223\n",
            "(Epoch 5 / 10) train acc: 0.555000; val_acc: 0.499000\n",
            "(Iteration 2451 / 4900) loss: 1.380705\n",
            "(Iteration 2461 / 4900) loss: 1.364906\n",
            "(Iteration 2471 / 4900) loss: 1.134816\n",
            "(Iteration 2481 / 4900) loss: 1.129349\n",
            "(Iteration 2491 / 4900) loss: 1.217251\n",
            "(Iteration 2501 / 4900) loss: 1.227765\n",
            "(Iteration 2511 / 4900) loss: 1.532478\n",
            "(Iteration 2521 / 4900) loss: 1.174976\n",
            "(Iteration 2531 / 4900) loss: 1.201065\n",
            "(Iteration 2541 / 4900) loss: 1.271815\n",
            "(Iteration 2551 / 4900) loss: 1.332705\n",
            "(Iteration 2561 / 4900) loss: 1.227144\n",
            "(Iteration 2571 / 4900) loss: 1.203156\n",
            "(Iteration 2581 / 4900) loss: 1.205392\n",
            "(Iteration 2591 / 4900) loss: 1.141819\n",
            "(Iteration 2601 / 4900) loss: 1.134115\n",
            "(Iteration 2611 / 4900) loss: 1.347945\n",
            "(Iteration 2621 / 4900) loss: 1.115827\n",
            "(Iteration 2631 / 4900) loss: 1.434848\n",
            "(Iteration 2641 / 4900) loss: 0.949283\n",
            "(Iteration 2651 / 4900) loss: 1.422098\n",
            "(Iteration 2661 / 4900) loss: 1.162149\n",
            "(Iteration 2671 / 4900) loss: 1.303593\n",
            "(Iteration 2681 / 4900) loss: 1.193170\n",
            "(Iteration 2691 / 4900) loss: 1.324686\n",
            "(Iteration 2701 / 4900) loss: 1.294535\n",
            "(Iteration 2711 / 4900) loss: 1.157886\n",
            "(Iteration 2721 / 4900) loss: 1.392057\n",
            "(Iteration 2731 / 4900) loss: 1.255043\n",
            "(Iteration 2741 / 4900) loss: 1.284632\n",
            "(Iteration 2751 / 4900) loss: 1.305816\n",
            "(Iteration 2761 / 4900) loss: 1.178525\n",
            "(Iteration 2771 / 4900) loss: 1.246701\n",
            "(Iteration 2781 / 4900) loss: 1.322146\n",
            "(Iteration 2791 / 4900) loss: 1.147613\n",
            "(Iteration 2801 / 4900) loss: 1.095977\n",
            "(Iteration 2811 / 4900) loss: 1.311066\n",
            "(Iteration 2821 / 4900) loss: 1.248577\n",
            "(Iteration 2831 / 4900) loss: 1.301456\n",
            "(Iteration 2841 / 4900) loss: 1.110387\n",
            "(Iteration 2851 / 4900) loss: 0.987984\n",
            "(Iteration 2861 / 4900) loss: 1.080895\n",
            "(Iteration 2871 / 4900) loss: 1.312225\n",
            "(Iteration 2881 / 4900) loss: 1.222637\n",
            "(Iteration 2891 / 4900) loss: 1.208562\n",
            "(Iteration 2901 / 4900) loss: 1.190268\n",
            "(Iteration 2911 / 4900) loss: 1.252868\n",
            "(Iteration 2921 / 4900) loss: 1.401868\n",
            "(Iteration 2931 / 4900) loss: 1.243806\n",
            "(Epoch 6 / 10) train acc: 0.588000; val_acc: 0.525000\n",
            "(Iteration 2941 / 4900) loss: 1.212200\n",
            "(Iteration 2951 / 4900) loss: 1.376685\n",
            "(Iteration 2961 / 4900) loss: 1.271351\n",
            "(Iteration 2971 / 4900) loss: 1.115707\n",
            "(Iteration 2981 / 4900) loss: 1.114933\n",
            "(Iteration 2991 / 4900) loss: 1.286897\n",
            "(Iteration 3001 / 4900) loss: 1.144613\n",
            "(Iteration 3011 / 4900) loss: 1.153520\n",
            "(Iteration 3021 / 4900) loss: 0.927847\n",
            "(Iteration 3031 / 4900) loss: 1.344325\n",
            "(Iteration 3041 / 4900) loss: 1.383528\n",
            "(Iteration 3051 / 4900) loss: 1.016480\n",
            "(Iteration 3061 / 4900) loss: 1.126903\n",
            "(Iteration 3071 / 4900) loss: 1.200821\n",
            "(Iteration 3081 / 4900) loss: 1.127642\n",
            "(Iteration 3091 / 4900) loss: 1.485174\n",
            "(Iteration 3101 / 4900) loss: 1.206019\n",
            "(Iteration 3111 / 4900) loss: 0.954929\n",
            "(Iteration 3121 / 4900) loss: 1.286863\n",
            "(Iteration 3131 / 4900) loss: 1.183862\n",
            "(Iteration 3141 / 4900) loss: 1.177036\n",
            "(Iteration 3151 / 4900) loss: 1.167909\n",
            "(Iteration 3161 / 4900) loss: 1.139281\n",
            "(Iteration 3171 / 4900) loss: 1.413553\n",
            "(Iteration 3181 / 4900) loss: 1.223004\n",
            "(Iteration 3191 / 4900) loss: 1.264655\n",
            "(Iteration 3201 / 4900) loss: 1.476597\n",
            "(Iteration 3211 / 4900) loss: 1.396227\n",
            "(Iteration 3221 / 4900) loss: 1.032017\n",
            "(Iteration 3231 / 4900) loss: 1.250696\n",
            "(Iteration 3241 / 4900) loss: 1.357172\n",
            "(Iteration 3251 / 4900) loss: 1.110818\n",
            "(Iteration 3261 / 4900) loss: 1.288867\n",
            "(Iteration 3271 / 4900) loss: 1.065299\n",
            "(Iteration 3281 / 4900) loss: 1.045745\n",
            "(Iteration 3291 / 4900) loss: 1.103235\n",
            "(Iteration 3301 / 4900) loss: 0.916761\n",
            "(Iteration 3311 / 4900) loss: 1.339972\n",
            "(Iteration 3321 / 4900) loss: 1.014063\n",
            "(Iteration 3331 / 4900) loss: 1.196263\n",
            "(Iteration 3341 / 4900) loss: 1.354038\n",
            "(Iteration 3351 / 4900) loss: 1.186565\n",
            "(Iteration 3361 / 4900) loss: 1.372544\n",
            "(Iteration 3371 / 4900) loss: 1.140667\n",
            "(Iteration 3381 / 4900) loss: 1.129566\n",
            "(Iteration 3391 / 4900) loss: 1.336151\n",
            "(Iteration 3401 / 4900) loss: 1.191413\n",
            "(Iteration 3411 / 4900) loss: 1.076359\n",
            "(Iteration 3421 / 4900) loss: 1.162831\n",
            "(Epoch 7 / 10) train acc: 0.603000; val_acc: 0.504000\n",
            "(Iteration 3431 / 4900) loss: 0.968193\n",
            "(Iteration 3441 / 4900) loss: 1.309391\n",
            "(Iteration 3451 / 4900) loss: 1.271219\n",
            "(Iteration 3461 / 4900) loss: 1.292980\n",
            "(Iteration 3471 / 4900) loss: 1.251640\n",
            "(Iteration 3481 / 4900) loss: 1.332666\n",
            "(Iteration 3491 / 4900) loss: 1.032605\n",
            "(Iteration 3501 / 4900) loss: 1.132285\n",
            "(Iteration 3511 / 4900) loss: 1.158911\n",
            "(Iteration 3521 / 4900) loss: 0.973600\n",
            "(Iteration 3531 / 4900) loss: 1.056654\n",
            "(Iteration 3541 / 4900) loss: 1.085794\n",
            "(Iteration 3551 / 4900) loss: 1.084270\n",
            "(Iteration 3561 / 4900) loss: 1.185826\n",
            "(Iteration 3571 / 4900) loss: 1.288545\n",
            "(Iteration 3581 / 4900) loss: 1.525794\n",
            "(Iteration 3591 / 4900) loss: 1.236985\n",
            "(Iteration 3601 / 4900) loss: 1.211255\n",
            "(Iteration 3611 / 4900) loss: 0.925362\n",
            "(Iteration 3621 / 4900) loss: 1.177496\n",
            "(Iteration 3631 / 4900) loss: 1.216039\n",
            "(Iteration 3641 / 4900) loss: 1.171131\n",
            "(Iteration 3651 / 4900) loss: 1.181470\n",
            "(Iteration 3661 / 4900) loss: 1.142328\n",
            "(Iteration 3671 / 4900) loss: 1.080667\n",
            "(Iteration 3681 / 4900) loss: 0.976926\n",
            "(Iteration 3691 / 4900) loss: 1.211987\n",
            "(Iteration 3701 / 4900) loss: 1.017422\n",
            "(Iteration 3711 / 4900) loss: 1.337116\n",
            "(Iteration 3721 / 4900) loss: 1.157472\n",
            "(Iteration 3731 / 4900) loss: 1.179382\n",
            "(Iteration 3741 / 4900) loss: 1.034511\n",
            "(Iteration 3751 / 4900) loss: 1.201370\n",
            "(Iteration 3761 / 4900) loss: 1.449046\n",
            "(Iteration 3771 / 4900) loss: 1.267760\n",
            "(Iteration 3781 / 4900) loss: 1.208704\n",
            "(Iteration 3791 / 4900) loss: 1.222521\n",
            "(Iteration 3801 / 4900) loss: 1.394601\n",
            "(Iteration 3811 / 4900) loss: 1.371433\n",
            "(Iteration 3821 / 4900) loss: 1.327271\n",
            "(Iteration 3831 / 4900) loss: 0.935677\n",
            "(Iteration 3841 / 4900) loss: 1.220454\n",
            "(Iteration 3851 / 4900) loss: 1.032932\n",
            "(Iteration 3861 / 4900) loss: 1.185058\n",
            "(Iteration 3871 / 4900) loss: 1.292506\n",
            "(Iteration 3881 / 4900) loss: 1.236487\n",
            "(Iteration 3891 / 4900) loss: 0.979455\n",
            "(Iteration 3901 / 4900) loss: 1.152679\n",
            "(Iteration 3911 / 4900) loss: 1.096950\n",
            "(Epoch 8 / 10) train acc: 0.603000; val_acc: 0.533000\n",
            "(Iteration 3921 / 4900) loss: 1.045806\n",
            "(Iteration 3931 / 4900) loss: 0.928026\n",
            "(Iteration 3941 / 4900) loss: 1.303454\n",
            "(Iteration 3951 / 4900) loss: 1.239349\n",
            "(Iteration 3961 / 4900) loss: 1.132129\n",
            "(Iteration 3971 / 4900) loss: 1.147748\n",
            "(Iteration 3981 / 4900) loss: 1.061651\n",
            "(Iteration 3991 / 4900) loss: 1.212036\n",
            "(Iteration 4001 / 4900) loss: 1.090183\n",
            "(Iteration 4011 / 4900) loss: 1.297666\n",
            "(Iteration 4021 / 4900) loss: 1.255170\n",
            "(Iteration 4031 / 4900) loss: 1.198220\n",
            "(Iteration 4041 / 4900) loss: 1.153452\n",
            "(Iteration 4051 / 4900) loss: 1.195492\n",
            "(Iteration 4061 / 4900) loss: 1.056891\n",
            "(Iteration 4071 / 4900) loss: 1.155374\n",
            "(Iteration 4081 / 4900) loss: 1.203287\n",
            "(Iteration 4091 / 4900) loss: 0.964262\n",
            "(Iteration 4101 / 4900) loss: 0.991285\n",
            "(Iteration 4111 / 4900) loss: 1.203116\n",
            "(Iteration 4121 / 4900) loss: 1.100960\n",
            "(Iteration 4131 / 4900) loss: 1.085127\n",
            "(Iteration 4141 / 4900) loss: 0.966424\n",
            "(Iteration 4151 / 4900) loss: 0.960302\n",
            "(Iteration 4161 / 4900) loss: 1.121411\n",
            "(Iteration 4171 / 4900) loss: 1.030487\n",
            "(Iteration 4181 / 4900) loss: 0.968181\n",
            "(Iteration 4191 / 4900) loss: 1.018273\n",
            "(Iteration 4201 / 4900) loss: 1.046169\n",
            "(Iteration 4211 / 4900) loss: 0.969790\n",
            "(Iteration 4221 / 4900) loss: 0.976468\n",
            "(Iteration 4231 / 4900) loss: 1.018321\n",
            "(Iteration 4241 / 4900) loss: 1.354178\n",
            "(Iteration 4251 / 4900) loss: 1.188112\n",
            "(Iteration 4261 / 4900) loss: 1.189728\n",
            "(Iteration 4271 / 4900) loss: 1.280746\n",
            "(Iteration 4281 / 4900) loss: 1.168463\n",
            "(Iteration 4291 / 4900) loss: 1.096905\n",
            "(Iteration 4301 / 4900) loss: 1.054726\n",
            "(Iteration 4311 / 4900) loss: 1.206812\n",
            "(Iteration 4321 / 4900) loss: 1.025453\n",
            "(Iteration 4331 / 4900) loss: 1.167941\n",
            "(Iteration 4341 / 4900) loss: 0.843750\n",
            "(Iteration 4351 / 4900) loss: 1.360758\n",
            "(Iteration 4361 / 4900) loss: 1.059033\n",
            "(Iteration 4371 / 4900) loss: 1.022379\n",
            "(Iteration 4381 / 4900) loss: 1.053325\n",
            "(Iteration 4391 / 4900) loss: 1.049796\n",
            "(Iteration 4401 / 4900) loss: 1.114367\n",
            "(Epoch 9 / 10) train acc: 0.627000; val_acc: 0.513000\n",
            "(Iteration 4411 / 4900) loss: 1.120284\n",
            "(Iteration 4421 / 4900) loss: 1.102662\n",
            "(Iteration 4431 / 4900) loss: 1.114235\n",
            "(Iteration 4441 / 4900) loss: 1.010146\n",
            "(Iteration 4451 / 4900) loss: 1.194029\n",
            "(Iteration 4461 / 4900) loss: 1.103966\n",
            "(Iteration 4471 / 4900) loss: 1.263679\n",
            "(Iteration 4481 / 4900) loss: 1.031785\n",
            "(Iteration 4491 / 4900) loss: 1.238075\n",
            "(Iteration 4501 / 4900) loss: 0.978987\n",
            "(Iteration 4511 / 4900) loss: 1.053159\n",
            "(Iteration 4521 / 4900) loss: 1.250380\n",
            "(Iteration 4531 / 4900) loss: 0.900918\n",
            "(Iteration 4541 / 4900) loss: 1.009522\n",
            "(Iteration 4551 / 4900) loss: 1.084284\n",
            "(Iteration 4561 / 4900) loss: 1.169925\n",
            "(Iteration 4571 / 4900) loss: 0.954447\n",
            "(Iteration 4581 / 4900) loss: 1.249747\n",
            "(Iteration 4591 / 4900) loss: 1.136111\n",
            "(Iteration 4601 / 4900) loss: 1.178706\n",
            "(Iteration 4611 / 4900) loss: 1.125655\n",
            "(Iteration 4621 / 4900) loss: 1.106678\n",
            "(Iteration 4631 / 4900) loss: 1.096628\n",
            "(Iteration 4641 / 4900) loss: 1.115552\n",
            "(Iteration 4651 / 4900) loss: 1.085185\n",
            "(Iteration 4661 / 4900) loss: 1.289289\n",
            "(Iteration 4671 / 4900) loss: 1.133861\n",
            "(Iteration 4681 / 4900) loss: 1.362915\n",
            "(Iteration 4691 / 4900) loss: 1.265101\n",
            "(Iteration 4701 / 4900) loss: 1.073158\n",
            "(Iteration 4711 / 4900) loss: 1.112716\n",
            "(Iteration 4721 / 4900) loss: 1.129607\n",
            "(Iteration 4731 / 4900) loss: 1.167886\n",
            "(Iteration 4741 / 4900) loss: 1.117447\n",
            "(Iteration 4751 / 4900) loss: 1.147298\n",
            "(Iteration 4761 / 4900) loss: 1.140189\n",
            "(Iteration 4771 / 4900) loss: 1.282101\n",
            "(Iteration 4781 / 4900) loss: 1.093667\n",
            "(Iteration 4791 / 4900) loss: 1.064504\n",
            "(Iteration 4801 / 4900) loss: 1.158303\n",
            "(Iteration 4811 / 4900) loss: 1.226121\n",
            "(Iteration 4821 / 4900) loss: 1.006008\n",
            "(Iteration 4831 / 4900) loss: 1.023448\n",
            "(Iteration 4841 / 4900) loss: 1.123537\n",
            "(Iteration 4851 / 4900) loss: 1.015447\n",
            "(Iteration 4861 / 4900) loss: 0.968161\n",
            "(Iteration 4871 / 4900) loss: 0.918895\n",
            "(Iteration 4881 / 4900) loss: 1.003988\n",
            "(Iteration 4891 / 4900) loss: 1.293607\n",
            "(Epoch 10 / 10) train acc: 0.608000; val_acc: 0.508000\n"
          ]
        }
      ],
      "source": [
        "model = TwoLayerNet()\n",
        "solver = None\n",
        "\n",
        "##############################################################################\n",
        "# TODO: Use a Solver instance to train a TwoLayerNet that achieves at least  #\n",
        "# 50% accuracy on the validation set.                                        #\n",
        "##############################################################################\n",
        "optim_config = {}\n",
        "optim_config['learning_rate'] = 0.001\n",
        "solver = Solver(model, data, optim_config=optim_config, lr_decay=0.9, num_epochs=10)\n",
        "solver.train()\n",
        "##############################################################################\n",
        "#                             END OF YOUR CODE                               #\n",
        "##############################################################################"
      ]
    },
    {
      "cell_type": "code",
      "execution_count": null,
      "metadata": {
        "id": "YpEIyMwmp63U",
        "colab": {
          "base_uri": "https://localhost:8080/",
          "height": 730
        },
        "outputId": "095e94cf-00c5-4d7f-ba86-d3c4c2f6755e"
      },
      "outputs": [
        {
          "output_type": "display_data",
          "data": {
            "text/plain": [
              "<Figure size 1080x864 with 2 Axes>"
            ],
            "image/png": "[encoded data removed]"
          },
          "metadata": {
            "needs_background": "light"
          }
        }
      ],
      "source": [
        "# Run this cell to visualize training loss and train / val accuracy, and save the log file of the\n",
        "# experiment for submission.\n",
        "\n",
        "plt.subplot(2, 1, 1)\n",
        "plt.title('Training loss')\n",
        "plt.plot(solver.loss_history, 'o')\n",
        "plt.xlabel('Iteration')\n",
        "\n",
        "plt.subplot(2, 1, 2)\n",
        "plt.title('Accuracy')\n",
        "plt.plot(solver.train_acc_history, '-o', label='train')\n",
        "plt.plot(solver.val_acc_history, '-o', label='val')\n",
        "plt.plot([0.5] * len(solver.val_acc_history), 'k--')\n",
        "plt.xlabel('Epoch')\n",
        "plt.legend(loc='lower right')\n",
        "plt.gcf().set_size_inches(15, 12)\n",
        "plt.show()\n",
        "\n",
        "os.makedirs('submission_logs', exist_ok=True)\n",
        "solver.record_histories_as_npz('submission_logs/train_2layer_fc.npz')"
      ]
    },
    {
      "cell_type": "markdown",
      "metadata": {
        "id": "W3AKHVDVp63V"
      },
      "source": [
        "# Multilayer network\n",
        "Next you will implement a fully-connected network with an arbitrary number of hidden layers.\n",
        "\n",
        "Read through the `FullyConnectedNet` class in the file `deeplearning/classifiers/fc_net.py`.\n",
        "\n",
        "Implement the initialization, the forward pass, and the backward pass. For the moment don't worry about implementing dropout or batch normalization; we will add those features soon."
      ]
    },
    {
      "cell_type": "markdown",
      "metadata": {
        "id": "PBRwlmhJp63V"
      },
      "source": [
        "## Initial loss and gradient check"
      ]
    },
    {
      "cell_type": "markdown",
      "metadata": {
        "id": "0jHYOPebp63V"
      },
      "source": [
        "As a sanity check, run the following to check the initial loss and to gradient check the network both with and without regularization. Do the initial losses seem reasonable?\n",
        "\n",
        "For gradient checking, you should expect to see errors around 1e-6 or less."
      ]
    },
    {
      "cell_type": "code",
      "execution_count": null,
      "metadata": {
        "id": "PKA5kkhOp63V",
        "colab": {
          "base_uri": "https://localhost:8080/"
        },
        "outputId": "78820500-013a-46e2-8668-bbf48b78cb63"
      },
      "outputs": [
        {
          "output_type": "stream",
          "name": "stdout",
          "text": [
            "Running check with reg =  0\n",
            "Initial loss:  2.297220426554695\n",
            "W1 relative error: 6.05e-08\n",
            "W2 relative error: 3.87e-07\n",
            "W3 relative error: 5.58e-08\n",
            "b1 relative error: 6.66e-09\n",
            "b2 relative error: 1.95e-08\n",
            "b3 relative error: 1.45e-10\n",
            "Running check with reg =  3.14\n",
            "Initial loss:  7.205731979037441\n",
            "W1 relative error: 9.78e-08\n",
            "W2 relative error: 2.85e-08\n",
            "W3 relative error: 1.61e-08\n",
            "b1 relative error: 9.13e-09\n",
            "b2 relative error: 5.64e-09\n",
            "b3 relative error: 2.50e-10\n"
          ]
        }
      ],
      "source": [
        "N, D, H1, H2, C = 2, 15, 20, 30, 10\n",
        "X = np.random.randn(N, D)\n",
        "y = np.random.randint(C, size=(N,))\n",
        "\n",
        "for reg in [0, 3.14]:\n",
        "    print ('Running check with reg = ', reg)\n",
        "    model = FullyConnectedNet([H1, H2], input_dim=D, num_classes=C,\n",
        "                              reg=reg, weight_scale=5e-2, dtype=np.float64)\n",
        "\n",
        "    loss, grads = model.loss(X, y)\n",
        "    print ('Initial loss: ', loss)\n",
        "\n",
        "    for name in sorted(grads):\n",
        "        f = lambda _: model.loss(X, y)[0]\n",
        "        grad_num = eval_numerical_gradient(f, model.params[name], verbose=False, h=1e-5)\n",
        "        print ('%s relative error: %.2e' % (name, rel_error(grad_num, grads[name])))"
      ]
    },
    {
      "cell_type": "markdown",
      "metadata": {
        "id": "8Fx3oKoVp63V"
      },
      "source": [
        "As another sanity check, make sure you can overfit a small dataset of 50 images. First we will try a three-layer network with 100 units in each hidden layer. You will need to tweak the learning rate and initialization scale, but you should be able to overfit and achieve 100% training accuracy within 20 epochs."
      ]
    },
    {
      "cell_type": "code",
      "execution_count": null,
      "metadata": {
        "id": "Nxq9cTonp63V",
        "colab": {
          "base_uri": "https://localhost:8080/",
          "height": 959
        },
        "outputId": "fb57c43a-a2f5-44e2-bca5-9d299841e5c1"
      },
      "outputs": [
        {
          "output_type": "stream",
          "name": "stdout",
          "text": [
            "(Iteration 1 / 40) loss: 2.767002\n",
            "(Epoch 0 / 20) train acc: 0.160000; val_acc: 0.110000\n",
            "(Epoch 1 / 20) train acc: 0.240000; val_acc: 0.133000\n",
            "(Epoch 2 / 20) train acc: 0.680000; val_acc: 0.140000\n",
            "(Epoch 3 / 20) train acc: 0.720000; val_acc: 0.146000\n",
            "(Epoch 4 / 20) train acc: 0.880000; val_acc: 0.147000\n",
            "(Epoch 5 / 20) train acc: 0.900000; val_acc: 0.151000\n",
            "(Iteration 11 / 40) loss: 0.448270\n",
            "(Epoch 6 / 20) train acc: 0.980000; val_acc: 0.158000\n",
            "(Epoch 7 / 20) train acc: 1.000000; val_acc: 0.154000\n",
            "(Epoch 8 / 20) train acc: 1.000000; val_acc: 0.155000\n",
            "(Epoch 9 / 20) train acc: 1.000000; val_acc: 0.161000\n",
            "(Epoch 10 / 20) train acc: 1.000000; val_acc: 0.162000\n",
            "(Iteration 21 / 40) loss: 0.108317\n",
            "(Epoch 11 / 20) train acc: 1.000000; val_acc: 0.146000\n",
            "(Epoch 12 / 20) train acc: 1.000000; val_acc: 0.157000\n",
            "(Epoch 13 / 20) train acc: 1.000000; val_acc: 0.157000\n",
            "(Epoch 14 / 20) train acc: 1.000000; val_acc: 0.159000\n",
            "(Epoch 15 / 20) train acc: 1.000000; val_acc: 0.153000\n",
            "(Iteration 31 / 40) loss: 0.047377\n",
            "(Epoch 16 / 20) train acc: 1.000000; val_acc: 0.153000\n",
            "(Epoch 17 / 20) train acc: 1.000000; val_acc: 0.163000\n",
            "(Epoch 18 / 20) train acc: 1.000000; val_acc: 0.156000\n",
            "(Epoch 19 / 20) train acc: 1.000000; val_acc: 0.157000\n",
            "(Epoch 20 / 20) train acc: 1.000000; val_acc: 0.158000\n"
          ]
        },
        {
          "output_type": "display_data",
          "data": {
            "text/plain": [
              "<Figure size 720x576 with 1 Axes>"
            ],
            "image/png": "[encoded data removed]"
          },
          "metadata": {
            "needs_background": "light"
          }
        }
      ],
      "source": [
        "# TODO: Use a three-layer Net to overfit 50 training examples.\n",
        "\n",
        "num_train = 50\n",
        "small_data = {\n",
        "  'X_train': data['X_train'][:num_train],\n",
        "  'y_train': data['y_train'][:num_train],\n",
        "  'X_val': data['X_val'],\n",
        "  'y_val': data['y_val'],\n",
        "}\n",
        "\n",
        "############################################################################\n",
        "# TODO: Tune these parameters to get 100% train accuracy within 20 epochs. #\n",
        "############################################################################\n",
        "weight_scale = 0.02\n",
        "learning_rate = 0.005\n",
        "############################################################################\n",
        "#                             END OF YOUR CODE                             #\n",
        "############################################################################\n",
        "\n",
        "model = FullyConnectedNet([100, 100],\n",
        "              weight_scale=weight_scale, dtype=np.float64)\n",
        "solver = Solver(model, small_data,\n",
        "                print_every=10, num_epochs=20, batch_size=25,\n",
        "                update_rule='sgd',\n",
        "                optim_config={\n",
        "                  'learning_rate': learning_rate,\n",
        "                }\n",
        "         )\n",
        "solver.train()\n",
        "\n",
        "plt.plot(solver.loss_history, 'o')\n",
        "plt.title('Training loss history')\n",
        "plt.xlabel('Iteration')\n",
        "plt.ylabel('Training loss')\n",
        "plt.show()\n",
        "\n",
        "solver.record_histories_as_npz('submission_logs/overfit_3layer_fc.npz')"
      ]
    },
    {
      "cell_type": "markdown",
      "metadata": {
        "id": "Kpuoe8acp63V"
      },
      "source": [
        "Now try to use a five-layer network with 100 units on each layer to overfit 50 training examples. Again you will have to adjust the learning rate and weight initialization, but you should be able to achieve 100% training accuracy within 20 epochs."
      ]
    },
    {
      "cell_type": "code",
      "execution_count": null,
      "metadata": {
        "id": "YK8TEdSDp63V",
        "colab": {
          "base_uri": "https://localhost:8080/",
          "height": 959
        },
        "outputId": "c20e8d39-2515-436e-c735-056b84f453d1"
      },
      "outputs": [
        {
          "output_type": "stream",
          "name": "stdout",
          "text": [
            "(Iteration 1 / 40) loss: 120.989164\n",
            "(Epoch 0 / 20) train acc: 0.220000; val_acc: 0.110000\n",
            "(Epoch 1 / 20) train acc: 0.160000; val_acc: 0.087000\n",
            "(Epoch 2 / 20) train acc: 0.420000; val_acc: 0.125000\n",
            "(Epoch 3 / 20) train acc: 0.540000; val_acc: 0.134000\n",
            "(Epoch 4 / 20) train acc: 0.740000; val_acc: 0.138000\n",
            "(Epoch 5 / 20) train acc: 0.680000; val_acc: 0.162000\n",
            "(Iteration 11 / 40) loss: 4.626402\n",
            "(Epoch 6 / 20) train acc: 0.780000; val_acc: 0.145000\n",
            "(Epoch 7 / 20) train acc: 0.860000; val_acc: 0.142000\n",
            "(Epoch 8 / 20) train acc: 0.880000; val_acc: 0.133000\n",
            "(Epoch 9 / 20) train acc: 0.960000; val_acc: 0.149000\n",
            "(Epoch 10 / 20) train acc: 1.000000; val_acc: 0.147000\n",
            "(Iteration 21 / 40) loss: 0.000366\n",
            "(Epoch 11 / 20) train acc: 1.000000; val_acc: 0.147000\n",
            "(Epoch 12 / 20) train acc: 1.000000; val_acc: 0.146000\n",
            "(Epoch 13 / 20) train acc: 1.000000; val_acc: 0.147000\n",
            "(Epoch 14 / 20) train acc: 1.000000; val_acc: 0.147000\n",
            "(Epoch 15 / 20) train acc: 1.000000; val_acc: 0.147000\n",
            "(Iteration 31 / 40) loss: 0.000854\n",
            "(Epoch 16 / 20) train acc: 1.000000; val_acc: 0.147000\n",
            "(Epoch 17 / 20) train acc: 1.000000; val_acc: 0.147000\n",
            "(Epoch 18 / 20) train acc: 1.000000; val_acc: 0.147000\n",
            "(Epoch 19 / 20) train acc: 1.000000; val_acc: 0.147000\n",
            "(Epoch 20 / 20) train acc: 1.000000; val_acc: 0.147000\n"
          ]
        },
        {
          "output_type": "display_data",
          "data": {
            "text/plain": [
              "<Figure size 720x576 with 1 Axes>"
            ],
            "image/png": "[encoded data removed]"
          },
          "metadata": {
            "needs_background": "light"
          }
        }
      ],
      "source": [
        "## TODO: Use a five-layer Net to overfit 50 training examples.\n",
        "\n",
        "num_train = 50\n",
        "small_data = {\n",
        "  'X_train': data['X_train'][:num_train],\n",
        "  'y_train': data['y_train'][:num_train],\n",
        "  'X_val': data['X_val'],\n",
        "  'y_val': data['y_val'],\n",
        "}\n",
        "\n",
        "############################################################################\n",
        "# TODO: Tune these parameters to get 100% train accuracy within 20 epochs. #\n",
        "############################################################################\n",
        "weight_scale = 0.1\n",
        "learning_rate = 0.001 #0.1\n",
        "############################################################################\n",
        "#                             END OF YOUR CODE                             #\n",
        "############################################################################\n",
        "\n",
        "model = FullyConnectedNet([100, 100, 100, 100],\n",
        "                weight_scale=weight_scale, dtype=np.float64)\n",
        "solver = Solver(model, small_data,\n",
        "                print_every=10, num_epochs=20, batch_size=25,\n",
        "                update_rule='sgd',\n",
        "                optim_config={\n",
        "                  'learning_rate': learning_rate,\n",
        "                }\n",
        "         )\n",
        "solver.train()\n",
        "\n",
        "plt.plot(solver.loss_history, 'o')\n",
        "plt.title('Training loss history')\n",
        "plt.xlabel('Iteration')\n",
        "plt.ylabel('Training loss')\n",
        "plt.show()\n",
        "\n",
        "solver.record_histories_as_npz('submission_logs/overfit_5layer_fc.npz')"
      ]
    },
    {
      "cell_type": "markdown",
      "metadata": {
        "id": "Wbqd-wEPp63W"
      },
      "source": [
        "# Collect your submissions"
      ]
    },
    {
      "cell_type": "code",
      "execution_count": null,
      "metadata": {
        "id": "gXYKq-vDp63a",
        "colab": {
          "base_uri": "https://localhost:8080/"
        },
        "outputId": "464a12c2-7152-48b7-db27-824d4e6f899f"
      },
      "outputs": [
        {
          "output_type": "stream",
          "name": "stdout",
          "text": [
            "  adding: FullyConnectedNets.ipynb (deflated 77%)\n",
            "  adding: deeplearning/ (stored 0%)\n",
            "  adding: deeplearning/__init__.py (stored 0%)\n",
            "  adding: deeplearning/classifiers/ (stored 0%)\n",
            "  adding: deeplearning/classifiers/fc_net.py (deflated 78%)\n",
            "  adding: deeplearning/data_utils.py (deflated 68%)\n",
            "  adding: deeplearning/gradient_check.py (deflated 68%)\n",
            "  adding: deeplearning/layer_utils.py (deflated 79%)\n",
            "  adding: deeplearning/layers.py (deflated 78%)\n",
            "  adding: deeplearning/optim.py (deflated 53%)\n",
            "  adding: deeplearning/setup.py (deflated 46%)\n",
            "  adding: deeplearning/solver.py (deflated 69%)\n",
            "  adding: deeplearning/vis_utils.py (deflated 65%)\n",
            "  adding: submission_logs/ (stored 0%)\n",
            "  adding: submission_logs/train_2layer_fc.npz (deflated 8%)\n",
            "  adding: submission_logs/overfit_3layer_fc.npz (deflated 48%)\n",
            "  adding: submission_logs/overfit_5layer_fc.npz (deflated 50%)\n"
          ]
        }
      ],
      "source": [
        "!rm -f cs182hw1_submission.zip\n",
        "!zip -r cs182hw1_submission.zip . -x \"*.git*\" \"*deeplearning/datasets*\" \"*.ipynb_checkpoints*\" \"*README.md\" \".env/*\" \"*.pyc\" \"*deeplearning/build/*\" \"*__pycache__/*\""
      ]
    },
    {
      "cell_type": "markdown",
      "metadata": {
        "id": "pldXjnpQp63a"
      },
      "source": [
        "# Question\n",
        "Did you notice anything about the comparative difficulty of training the three-layer net vs training the five layer net?\n",
        "\n",
        "**Please include your response in the written assignment submission.**\n"
      ]
    }
  ],
  "metadata": {
    "kernelspec": {
      "display_name": "Python 3.9.6 64-bit",
      "language": "python",
      "name": "python3"
    },
    "language_info": {
      "name": "python",
      "version": "3.9.6"
    },
    "vscode": {
      "interpreter": {
        "hash": "31f2aee4e71d21fbe5cf8b01ff0e069b9275f58929596ceb00d14d90e3e16cd6"
      }
    },
    "colab": {
      "provenance": [],
      "include_colab_link": true
    }
  },
  "nbformat": 4,
  "nbformat_minor": 0
}